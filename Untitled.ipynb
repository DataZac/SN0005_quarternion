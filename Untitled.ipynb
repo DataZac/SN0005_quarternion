{
 "cells": [
  {
   "cell_type": "markdown",
   "metadata": {},
   "source": [
    "# Application of rotations of vectors and of reference frames inside a car"
   ]
  },
  {
   "cell_type": "markdown",
   "metadata": {
    "collapsed": false
   },
   "source": [
    "### Theoretical considerations"
   ]
  },
  {
   "cell_type": "markdown",
   "metadata": {},
   "source": [
    "Rotation around up (z), left(y) and forward (x): yaw (y/gier.), pitch (p/nick.) and roll (r/wank.)"
   ]
  },
  {
   "cell_type": "code",
   "execution_count": 1,
   "metadata": {
    "collapsed": false
   },
   "outputs": [
    {
     "data": {
      "text/latex": [
       "\n",
       "\\begin{align}\n",
       "R = \\begin{pmatrix}\n",
       "    1&0&0  \\\\\n",
       "    0& \\cos \\phi & -\\sin \\phi \\\\\n",
       "     0& \\sin \\phi & \\cos \\phi\n",
       "  \\end{pmatrix} \n",
       "  \\begin{pmatrix}\n",
       "    \\cos \\theta &0& \\sin \\theta  \\\\\n",
       "    0 & 1 &0 \\\\\n",
       "      -\\sin \\theta & 0 & \\cos \\theta\n",
       "  \\end{pmatrix}\n",
       "  \n",
       "  \\begin{pmatrix}\n",
       "    \\cos \\psi&-\\sin \\psi &0  \\\\\n",
       "    \\sin \\psi& \\cos \\psi & 0 \\\\\n",
       "     0& 0&1\n",
       "  \\end{pmatrix}\n",
       "\\end{align}\n",
       "\n",
       " \n",
       "     \n",
       "\n",
       "\\begin{align}\n",
       "\\text{R orthogonal:    }\\hskip 1em R^{T}=R^{-1}, \\\\\\ R*R^{T} = 1\n",
       "\\end{align}\n"
      ],
      "text/plain": [
       "<IPython.core.display.Latex object>"
      ]
     },
     "metadata": {},
     "output_type": "display_data"
    }
   ],
   "source": [
    "%%latex\n",
    "\n",
    "\\begin{align}\n",
    "R = \\begin{pmatrix}\n",
    "    1&0&0  \\\\\n",
    "    0& \\cos \\phi & -\\sin \\phi \\\\\n",
    "     0& \\sin \\phi & \\cos \\phi\n",
    "  \\end{pmatrix} \n",
    "  \\begin{pmatrix}\n",
    "    \\cos \\theta &0& \\sin \\theta  \\\\\n",
    "    0 & 1 &0 \\\\\n",
    "      -\\sin \\theta & 0 & \\cos \\theta\n",
    "  \\end{pmatrix}\n",
    "  \n",
    "  \\begin{pmatrix}\n",
    "    \\cos \\psi&-\\sin \\psi &0  \\\\\n",
    "    \\sin \\psi& \\cos \\psi & 0 \\\\\n",
    "     0& 0&1\n",
    "  \\end{pmatrix}\n",
    "\\end{align}\n",
    "\n",
    " \n",
    "     \n",
    "\n",
    "\\begin{align}\n",
    "\\text{R orthogonal:    }\\hskip 1em R^{T}=R^{-1}, \\\\\\ R*R^{T} = 1\n",
    "\\end{align}\n",
    "\n"
   ]
  },
  {
   "cell_type": "markdown",
   "metadata": {},
   "source": [
    "### Quarternion (normed!)"
   ]
  },
  {
   "cell_type": "code",
   "execution_count": 13,
   "metadata": {
    "collapsed": false
   },
   "outputs": [
    {
     "data": {
      "text/latex": [
       "\\begin{align}\n",
       "w = \\arccos(a), \\hskip 1em u = \\begin{bmatrix}\n",
       "    \\frac{b}{sin(\\frac{w}{2})}  \\\\\n",
       "    \\frac{c}{sin(\\frac{w}{2})} \\\\\n",
       "     \\frac{d}{sin(\\frac{w}{2})}\n",
       "  \\end{bmatrix}, \n",
       "\\hskip 1em\n",
       "R = \\begin{bmatrix}\n",
       "    (a^2+b^2-c^2-d^2)&2(bc-ad)&2(bd+ac)  \\\\\n",
       "    2(bc+ad)&(a^2-b^2+c^2-d^2)&2(cd-ab) \\\\\n",
       "     (bd-ac)&2(cd+ab)&2(a^2-b^2-c^2+d^2)\n",
       "  \\end{bmatrix} \n",
       "\n",
       "\\end{align}"
      ],
      "text/plain": [
       "<IPython.core.display.Latex object>"
      ]
     },
     "metadata": {},
     "output_type": "display_data"
    }
   ],
   "source": [
    "%%latex\n",
    "\\begin{align}\n",
    "w = \\arccos(a), \\hskip 1em u = \\begin{bmatrix}\n",
    "    \\frac{b}{sin(\\frac{w}{2})}  \\\\\n",
    "    \\frac{c}{sin(\\frac{w}{2})} \\\\\n",
    "     \\frac{d}{sin(\\frac{w}{2})}\n",
    "  \\end{bmatrix}, \n",
    "\\hskip 1em\n",
    "R = \\begin{bmatrix}\n",
    "    (a^2+b^2-c^2-d^2)&2(bc-ad)&2(bd+ac)  \\\\\n",
    "    2(bc+ad)&(a^2-b^2+c^2-d^2)&2(cd-ab) \\\\\n",
    "     (bd-ac)&2(cd+ab)&2(a^2-b^2-c^2+d^2)\n",
    "  \\end{bmatrix} \n",
    "\n",
    "\\end{align}"
   ]
  },
  {
   "cell_type": "code",
   "execution_count": 3,
   "metadata": {
    "collapsed": false
   },
   "outputs": [
    {
     "name": "stderr",
     "output_type": "stream",
     "text": [
      "C:\\Program Files\\Anaconda3\\lib\\site-packages\\IPython\\html.py:14: ShimWarning: The `IPython.html` package has been deprecated. You should import from `notebook` instead. `IPython.html.widgets` has moved to `ipywidgets`.\n",
      "  \"`IPython.html.widgets` has moved to `ipywidgets`.\", ShimWarning)\n"
     ]
    }
   ],
   "source": [
    "import numpy as np\n",
    "import matplotlib.pyplot as plt\n",
    "from mpl_toolkits.mplot3d import Axes3D\n",
    "from IPython.html.widgets import interact\n",
    "from IPython.html import widgets\n",
    "from scipy.misc import imread\n",
    "import matplotlib.cbook as cbook\n",
    "import os\n",
    "\n",
    "\n",
    "%matplotlib inline\n",
    "np.set_printoptions(suppress=True, precision=3)\n",
    "\n"
   ]
  },
  {
   "cell_type": "markdown",
   "metadata": {},
   "source": [
    "### Rotation matrix from yaw, pitch, roll"
   ]
  },
  {
   "cell_type": "code",
   "execution_count": 4,
   "metadata": {
    "collapsed": false
   },
   "outputs": [],
   "source": [
    "def Rypr(y, p, r):\n",
    "    '''\n",
    "    Rotationsmatrix für y=yaw, p=pitch, r=roll in degrees\n",
    "    '''\n",
    "    # from Degree to Radians\n",
    "    y = y*np.pi/180.0\n",
    "    p = p*np.pi/180.0\n",
    "    r = r*np.pi/180.0        \n",
    "    \n",
    "    Rr = np.matrix([[1.0, 0.0, 0.0],[0.0, np.cos(r), -np.sin(r)],[0.0, np.sin(r), np.cos(r)]])\n",
    "    Rp = np.matrix([[np.cos(p), 0.0, np.sin(p)],[0.0, 1.0, 0.0],[-np.sin(p), 0.0, np.cos(p)]])\n",
    "    Ry = np.matrix([[np.cos(y), -np.sin(y), 0.0],[np.sin(y), np.cos(y), 0.0],[0.0, 0.0, 1.0]])\n",
    "    \n",
    "    return Ry*Rp*Rr\n",
    "\n"
   ]
  },
  {
   "cell_type": "markdown",
   "metadata": {},
   "source": [
    "### Norm quaternions and get regular representation"
   ]
  },
  {
   "cell_type": "code",
   "execution_count": 5,
   "metadata": {
    "collapsed": false
   },
   "outputs": [
    {
     "name": "stdout",
     "output_type": "stream",
     "text": [
      "[[-0.952 -0.19   0.238]\n",
      " [ 0.238 -0.952  0.19 ]\n",
      " [ 0.19   0.238  0.952]]\n"
     ]
    }
   ],
   "source": [
    "def get_normed_vec(q_not_normed):\n",
    "    a, b, c, d = q_not_normed\n",
    " \n",
    "    # Betrag\n",
    "    Z = np.sqrt(a**2+b**2+c**2+d**2)\n",
    " \n",
    "    return np.array([a/Z,b/Z,c/Z,d/Z])\n",
    "\n",
    "def get_R(q, to_norm= True):\n",
    "    \n",
    "    if to_norm == True:\n",
    "        q = get_normed_vec(q)\n",
    " \n",
    "    a, b, c, d = q\n",
    " \n",
    "    R11 = (a**2+b**2-c**2-d**2)\n",
    "    R12 = 2.0*(b*c-a*d)\n",
    "    R13 = 2.0*(b*d+a*c)\n",
    " \n",
    "    R21 = 2.0*(b*c+a*d)\n",
    "    R22 = a**2-b**2+c**2-d**2\n",
    "    R23 = 2.0*(c*d-a*b)\n",
    " \n",
    "    R31 = 2.0*(b*d-a*c)\n",
    "    R32 = 2.0*(c*d+a*b)\n",
    "    R33 = a**2-b**2-c**2+d**2\n",
    " \n",
    "    return np.matrix([[R11, R12, R13],[R21, R22, R23],[R31, R32, R33]])\n",
    "\n",
    "print(get_R((1,1,1,9)))"
   ]
  },
  {
   "cell_type": "markdown",
   "metadata": {},
   "source": [
    "# Show orientations"
   ]
  },
  {
   "cell_type": "code",
   "execution_count": 14,
   "metadata": {
    "collapsed": false
   },
   "outputs": [
    {
     "data": {
      "image/png": "[encoded data removed]",
      "text/plain": [
       "<matplotlib.figure.Figure at 0x49fdd6dd68>"
      ]
     },
     "metadata": {},
     "output_type": "display_data"
    }
   ],
   "source": [
    "vec = np.matrix([[1.15], [-2.61], [-9.43]])\n",
    "\n",
    "@interact\n",
    "def plotpersp(yaw = widgets.FloatSlider(min=-180.0, max=180.0, step=1.0, value=0.0, description=\"\"), \\\n",
    "                   pitch = widgets.FloatSlider(min=-180.0, max=180.0, step=1.0, value=0.0, description=\"\"), \\\n",
    "                   roll = widgets.FloatSlider(min=-180.0, max=180.0, step=1.0, value=0.0, description=\"\")):\n",
    "    \n",
    "    R = Rypr(yaw, pitch, roll)\n",
    "    g = vec\n",
    "    x, y, z = R*g\n",
    "\n",
    "    \n",
    "    absz = (float(x),float(x),float(y))\n",
    "    ordi = (float(z),float(y),float(z))\n",
    "    absz_2 = ( g[0],  g[0],  g[1])\n",
    "    ordi_2 = ( g[2],  g[1],  g[2])\n",
    "    tit = ('X-Z', 'X-Y', 'Y-Z')\n",
    "    images = ('/x-z.png','/x-y.png','/y-z.png')\n",
    "    xlims = [(1,-1),(1,-1),(-1,1)]\n",
    "    ylims = [(-1,1),(1,-1),(-1,1)]\n",
    "    # left, right, bottom, up\n",
    "    extends = [[0.25, -0.25, -0.25, 0.25],[0.25, -0.25, 0.25, -0.25],[0.25, -0.25, -0.25, 0.25]]\n",
    "    fig = plt.figure(figsize=(15,4.5))\n",
    "    for subplotnumber in [1,2,3]:\n",
    "        ax = fig.add_subplot(1,3, subplotnumber)\n",
    "        img = plt.imread(os.getcwd()+images[subplotnumber-1])\n",
    "        ax.imshow(img,zorder=0, extent=extends[subplotnumber-1], aspect = 'equal')   \n",
    "        ax.plot([0, absz[subplotnumber-1]], [0, ordi[subplotnumber-1]], label='$g \\cdot R$', color = 'blue')\n",
    "        ax.plot([0, absz_2[subplotnumber-1]], [0, ordi_2[subplotnumber-1]] , label='$g$', color = 'red')\n",
    "        \n",
    "        \n",
    "        #datafile = cbook.get_sample_data(os.getcwd()+'/x-y.png')\n",
    "        #img = imread(datafile)\n",
    "\n",
    "        \n",
    "        ax.scatter(0,0,0, color='k')\n",
    "                \n",
    "        plt.xlim(xlims[subplotnumber-1][0], xlims[subplotnumber-1][1])\n",
    "        plt.ylim(ylims[subplotnumber-1][0], ylims[subplotnumber-1][1])\n",
    "        plt.title(tit[subplotnumber-1] + '\\nG: %i, N: %i, W: %i' % (yaw, pitch, roll))\n",
    "        plt.legend(loc='best');     \n",
    "        plt.tight_layout()\n",
    "        #plt.savefig('Rotation3D.png', dpi=100, bbox_inches='tight', transparent=True)\n",
    "\n"
   ]
  },
  {
   "cell_type": "code",
   "execution_count": 12,
   "metadata": {
    "collapsed": false
   },
   "outputs": [
    {
     "data": {
      "image/png": "[encoded data removed]",
      "text/plain": [
       "<matplotlib.figure.Figure at 0x49fddddac8>"
      ]
     },
     "metadata": {},
     "output_type": "display_data"
    }
   ],
   "source": [
    "@interact\n",
    "def plotpersp(i = widgets.FloatSlider(min=0, max=1, step=0.000001, value=0.90, description=\"i\"), \\\n",
    "                   j = widgets.FloatSlider(min=0, max=1, step=0.000001, value=0.60, description=\"j\"), \\\n",
    "                   k = widgets.FloatSlider(min=0, max=1, step=0.000001, value=0.30, description=\"k\"), \\\n",
    "                 r = widgets.FloatSlider(min=0, max=1, step=0.000001, value=0.60, description=\"r\")): \n",
    "    quat = (r,i,j,k)\n",
    "    R = get_R(quat, to_norm = True)\n",
    "    \n",
    "\n",
    "    x_c = R*np.matrix([[1],[0],[0]])\n",
    "    y_c = R*np.matrix([[0],[1],[0]])\n",
    "    z_c = R*np.matrix([[0],[0],[1]])\n",
    "\n",
    "\n",
    "    fig = plt.figure(figsize=(15,5))\n",
    "    images = ('/x-z.png','/x-y.png','/y-z.png')\n",
    "    extends = [[0.25, -0.25, -0.25, 0.25],[0.25, -0.25, 0.25, -0.25],[0.25, -0.25, -0.25, 0.25]]\n",
    "\n",
    "    #x-z\n",
    "    ax2 = fig.add_subplot(1,3,1 )\n",
    "    \n",
    "    ax2.plot([0,x_c.item(0)], [0, x_c.item(2)], color = 'black')\n",
    "    ax2.annotate('x',xy = (0,0), xytext=(x_c.item(0), x_c.item(2))) \n",
    "    \n",
    "    ax2.plot([0,y_c.item(0)], [0, y_c.item(2)], color = 'red')\n",
    "    ax2.annotate('y', xy = (1,1), xytext=(y_c.item(0), y_c.item(2)))\n",
    "    ax2.plot([0,z_c.item(0)], [0, z_c.item(2)], color = 'blue')\n",
    "    ax2.annotate('z', xy = (1,1), xytext=(z_c.item(0), z_c.item(2)))\n",
    "    ax2.set_title('X-Z')\n",
    "    img = plt.imread(os.getcwd()+images[0])\n",
    "    ax2.imshow(img,zorder=0, extent=extends[0], aspect = 'equal')   \n",
    "\n",
    "    ax2.set_xlim(1,-1)\n",
    "    ax2.set_ylim(-1,1)\n",
    "    \n",
    "    #x-y\n",
    "    ax3 = fig.add_subplot(1,3,2 )\n",
    "    \n",
    "    ax3.plot([0,x_c.item(0)], [0, x_c.item(1)], color = 'black')\n",
    "    ax3.annotate('x', xy = (0,0), xytext=(x_c.item(0)*1.05, x_c.item(1)*1.05)) \n",
    "    ax3.plot([0,y_c.item(0)], [0, y_c.item(1)], color = 'red')\n",
    "    ax3.annotate('y', xy = (0,0), xytext=(y_c.item(0)*1.05, y_c.item(1)*1.05)) \n",
    "    ax3.plot([0,z_c.item(0)], [0, z_c.item(1)], color = 'blue')\n",
    "    ax3.annotate('z', xy = (0,0), xytext=(z_c.item(0)*1.05, z_c.item(1)*1.05)) \n",
    "    ax3.set_title('X-Y')\n",
    "    img = plt.imread(os.getcwd()+images[1])\n",
    "    ax3.imshow(img,zorder=0, extent=extends[1], aspect = 'equal')   \n",
    "    ax3.set_xlim(1,-1)\n",
    "    ax3.set_ylim(1,-1)\n",
    "    \n",
    "    #y-z\n",
    "\n",
    "    ax4 = fig.add_subplot(1,3,3 )\n",
    "    \n",
    "    ax4.plot([0,x_c.item(1)], [0, x_c.item(2)], color = 'black')\n",
    "    ax4.annotate('x', xy = (0,0), xytext=(x_c.item(1)*1.05, x_c.item(2)*1.05))\n",
    "    ax4.plot([0,y_c.item(1)], [0, y_c.item(2)], color = 'red')\n",
    "    ax4.annotate('y', xy = (0,0), xytext=(y_c.item(1)*1.05, y_c.item(2)*1.05))\n",
    "    ax4.plot([0,z_c.item(1)], [0, z_c.item(2)], color = 'blue')\n",
    "    ax4.annotate('z', xy = (0,0), xytext=(z_c.item(1)*1.05, z_c.item(2)*1.05))\n",
    "    ax4.set_title('Y-Z')\n",
    "    img = plt.imread(os.getcwd()+images[2])\n",
    "    ax4.imshow(img,zorder=0, extent=extends[2], aspect = 'equal')   \n",
    "    ax4.set_xlim(-1,1)\n",
    "    ax4.set_ylim(-1,1)\n",
    "    "
   ]
  },
  {
   "cell_type": "markdown",
   "metadata": {},
   "source": [
    "# Attachments"
   ]
  },
  {
   "cell_type": "code",
   "execution_count": 8,
   "metadata": {
    "collapsed": false
   },
   "outputs": [
    {
     "ename": "NameError",
     "evalue": "name 'M' is not defined",
     "output_type": "error",
     "traceback": [
      "\u001b[0;31m---------------------------------------------------------------------------\u001b[0m",
      "\u001b[0;31mNameError\u001b[0m                                 Traceback (most recent call last)",
      "\u001b[0;32m<ipython-input-8-f719b8548426>\u001b[0m in \u001b[0;36m<module>\u001b[0;34m()\u001b[0m\n\u001b[1;32m      3\u001b[0m \u001b[1;33m\u001b[0m\u001b[0m\n\u001b[1;32m      4\u001b[0m \u001b[0max2\u001b[0m \u001b[1;33m=\u001b[0m \u001b[0mfig\u001b[0m\u001b[1;33m.\u001b[0m\u001b[0madd_subplot\u001b[0m\u001b[1;33m(\u001b[0m\u001b[1;36m2\u001b[0m\u001b[1;33m,\u001b[0m\u001b[1;36m2\u001b[0m\u001b[1;33m,\u001b[0m\u001b[1;36m1\u001b[0m \u001b[1;33m)\u001b[0m\u001b[1;33m\u001b[0m\u001b[0m\n\u001b[0;32m----> 5\u001b[0;31m \u001b[0max2\u001b[0m\u001b[1;33m.\u001b[0m\u001b[0mplot\u001b[0m\u001b[1;33m(\u001b[0m\u001b[1;33m[\u001b[0m\u001b[1;36m0\u001b[0m\u001b[1;33m,\u001b[0m\u001b[0mM\u001b[0m\u001b[1;33m.\u001b[0m\u001b[0mitem\u001b[0m\u001b[1;33m(\u001b[0m\u001b[1;36m0\u001b[0m\u001b[1;33m)\u001b[0m\u001b[1;33m]\u001b[0m\u001b[1;33m,\u001b[0m \u001b[1;33m[\u001b[0m\u001b[1;36m0\u001b[0m\u001b[1;33m,\u001b[0m \u001b[0mM\u001b[0m\u001b[1;33m.\u001b[0m\u001b[0mitem\u001b[0m\u001b[1;33m(\u001b[0m\u001b[1;36m3\u001b[0m\u001b[1;33m)\u001b[0m\u001b[1;33m]\u001b[0m\u001b[1;33m,\u001b[0m \u001b[0mcolor\u001b[0m \u001b[1;33m=\u001b[0m \u001b[1;34m'black'\u001b[0m\u001b[1;33m)\u001b[0m\u001b[1;33m\u001b[0m\u001b[0m\n\u001b[0m\u001b[1;32m      6\u001b[0m \u001b[0max2\u001b[0m\u001b[1;33m.\u001b[0m\u001b[0mplot\u001b[0m\u001b[1;33m(\u001b[0m\u001b[1;33m[\u001b[0m\u001b[1;36m0\u001b[0m\u001b[1;33m,\u001b[0m\u001b[0mM\u001b[0m\u001b[1;33m.\u001b[0m\u001b[0mitem\u001b[0m\u001b[1;33m(\u001b[0m\u001b[1;36m1\u001b[0m\u001b[1;33m)\u001b[0m\u001b[1;33m]\u001b[0m\u001b[1;33m,\u001b[0m \u001b[1;33m[\u001b[0m\u001b[1;36m0\u001b[0m\u001b[1;33m,\u001b[0m \u001b[0mM\u001b[0m\u001b[1;33m.\u001b[0m\u001b[0mitem\u001b[0m\u001b[1;33m(\u001b[0m\u001b[1;36m4\u001b[0m\u001b[1;33m)\u001b[0m\u001b[1;33m]\u001b[0m\u001b[1;33m,\u001b[0m \u001b[0mcolor\u001b[0m \u001b[1;33m=\u001b[0m \u001b[1;34m'blue'\u001b[0m\u001b[1;33m)\u001b[0m\u001b[1;33m\u001b[0m\u001b[0m\n\u001b[1;32m      7\u001b[0m \u001b[0max2\u001b[0m\u001b[1;33m.\u001b[0m\u001b[0mscatter\u001b[0m\u001b[1;33m(\u001b[0m\u001b[1;33m[\u001b[0m\u001b[0mM\u001b[0m\u001b[1;33m.\u001b[0m\u001b[0mitem\u001b[0m\u001b[1;33m(\u001b[0m\u001b[1;36m0\u001b[0m\u001b[1;33m)\u001b[0m\u001b[1;33m]\u001b[0m\u001b[1;33m,\u001b[0m \u001b[1;33m[\u001b[0m\u001b[0mM\u001b[0m\u001b[1;33m.\u001b[0m\u001b[0mitem\u001b[0m\u001b[1;33m(\u001b[0m\u001b[1;36m3\u001b[0m\u001b[1;33m)\u001b[0m\u001b[1;33m]\u001b[0m\u001b[1;33m,\u001b[0m \u001b[0mcolor\u001b[0m \u001b[1;33m=\u001b[0m \u001b[1;34m'black'\u001b[0m\u001b[1;33m,\u001b[0m \u001b[0ms\u001b[0m \u001b[1;33m=\u001b[0m \u001b[1;36m8\u001b[0m\u001b[1;33m)\u001b[0m\u001b[1;33m\u001b[0m\u001b[0m\n",
      "\u001b[0;31mNameError\u001b[0m: name 'M' is not defined"
     ]
    },
    {
     "data": {
      "image/png": "[encoded data removed]",
      "text/plain": [
       "<matplotlib.figure.Figure at 0x49f9f81a58>"
      ]
     },
     "metadata": {},
     "output_type": "display_data"
    }
   ],
   "source": [
    "fig = plt.figure(figsize=(9,9))\n",
    "\n",
    "\n",
    "ax2 = fig.add_subplot(2,2,1 )\n",
    "ax2.plot([0,M.item(0)], [0, M.item(3)], color = 'black')\n",
    "ax2.plot([0,M.item(1)], [0, M.item(4)], color = 'blue')\n",
    "ax2.scatter([M.item(0)], [M.item(3)], color = 'black', s = 8)\n",
    "ax2.scatter([M.item(1)], [M.item(4)], color = 'black', s = 8)\n",
    "ax2.set_xlim(-5,5)\n",
    "ax2.set_ylim(-5,5)\n",
    "\n",
    "ax3 = fig.add_subplot(2,2,2 )\n",
    "ax3.plot([0,M.T.item(0)], [0, M.T.item(3)], color = 'black')\n",
    "ax3.plot([0,M.T.item(1)], [0, M.T.item(4)], color = 'blue')\n",
    "ax3.scatter([M.T.item(0)], [M.T.item(3)], color = 'black', s = 8)\n",
    "ax3.scatter([M.T.item(1)], [M.T.item(4)], color = 'black', s = 8)\n",
    "ax3.set_xlim(-5,5)\n",
    "ax3.set_ylim(-5,5)\n",
    "\n",
    "ax = fig.add_subplot(2,2,3 )\n",
    "ax.plot([0,d[0]], [0, d[1]], color = 'black')\n",
    "ax.plot([0,v[0]], [0, v[1]], color = 'blue')\n",
    "ax.scatter([d[0]], [d[1]], color = 'black', s = 8)\n",
    "ax.scatter([v[0]], [v[1]], color = 'black', s = 8)\n",
    "ax.set_xlim(-5,5)\n",
    "ax.set_ylim(-5,5)\n",
    "\n",
    "ax4 = fig.add_subplot(2,2,4 )\n",
    "ax4.plot([0,v[0]], [0, v[1]], color = 'black')\n",
    "ax4.plot([0,e[0]], [0, e[1]], color = 'blue')\n",
    "ax4.scatter([d[0]], [d[1]], color = 'black', s = 8)\n",
    "ax4.scatter([v[0]], [v[1]], color = 'black', s = 8)\n",
    "ax4.set_xlim(-5,5)\n",
    "ax4.set_ylim(-5,5)\n",
    "plt.show()"
   ]
  },
  {
   "cell_type": "code",
   "execution_count": null,
   "metadata": {
    "collapsed": true
   },
   "outputs": [],
   "source": [
    "# x, y, z, forward, left, up, i,j,k,r\n",
    "# 1.15, -2.61, - 9.43, 1.87, 1.24,9.94, -0.64309903064, -0.730080059282, 0.175074790434, 0.15084574728\n",
    "# -0.204, -3.07, -9.7070000, 1.65, -0.03, 9.85, -0.655320536205, -0.72379746527, 0.165419135952, 0.138955869099\n",
    "#quat = (0.15084574728,-0.64309903064, -0.730080059282, 0.175074790434 )\n",
    "quat = (0.017304615726, 0.568827853307, -0.08252955239,-0.0404614854974,)\n",
    "#vec = np.matrix([[1.15],[-2.61],[-9.43]])\n",
    "#vec = np.matrix([[0.894],[-3.274],[-9.375999]])\n",
    "#vec = np.matrix([[-0.204],[-3.07],[-9.7070000]])\n",
    "vec = np.matrix([[1.15], [-2.61], [-9.43]])\n",
    "R = get_R(quat, to_norm = True)\n",
    "print(R.T)\n",
    "print(R*vec)"
   ]
  },
  {
   "cell_type": "code",
   "execution_count": null,
   "metadata": {
    "collapsed": true
   },
   "outputs": [],
   "source": [
    "M = Rypr(45,0,0)\n",
    "v = np.matrix([[2],[0],[0]])\n",
    "d = M*v\n",
    "e = M.T*v\n",
    "\n",
    "print(M)\n",
    "print(M.item(0),M.item(8))\n",
    "print(v)\n",
    "print(d)\n",
    "print('\\n')\n",
    "print(M.T)\n",
    "print(e)"
   ]
  }
 ],
 "metadata": {
  "anaconda-cloud": {},
  "kernelspec": {
   "display_name": "Python [conda root]",
   "language": "python",
   "name": "conda-root-py"
  },
  "language_info": {
   "codemirror_mode": {
    "name": "ipython",
    "version": 3
   },
   "file_extension": ".py",
   "mimetype": "text/x-python",
   "name": "python",
   "nbconvert_exporter": "python",
   "pygments_lexer": "ipython3",
   "version": "3.5.2"
  },
  "widgets": {
   "state": {
    "50eb2316852a4b4ab6bf12aa497663f2": {
     "views": [
      {
       "cell_index": 13
      }
     ]
    },
    "c7f4cd1b4bf344018c252e2f8ce81ca4": {
     "views": [
      {
       "cell_index": 12
      }
     ]
    }
   },
   "version": "1.2.0"
  }
 },
 "nbformat": 4,
 "nbformat_minor": 1
}
